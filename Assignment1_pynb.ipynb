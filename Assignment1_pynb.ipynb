{
  "nbformat": 4,
  "nbformat_minor": 0,
  "metadata": {
    "colab": {
      "provenance": [],
      "include_colab_link": true
    },
    "kernelspec": {
      "name": "python3",
      "display_name": "Python 3"
    },
    "language_info": {
      "name": "python"
    }
  },
  "cells": [
    {
      "cell_type": "markdown",
      "metadata": {
        "id": "view-in-github",
        "colab_type": "text"
      },
      "source": [
        "<a href=\"https://colab.research.google.com/github/GiveChoco/StarwarsGIF/blob/main/Assignment1_pynb.ipynb\" target=\"_parent\"><img src=\"https://colab.research.google.com/assets/colab-badge.svg\" alt=\"Open In Colab\"/></a>"
      ]
    },
    {
      "cell_type": "markdown",
      "source": [
        "# StarWars GIF generator\n",
        "\n",
        "There's ton of GIFs on Giphy, but how about a StarWars themed GIF? This module randomly picks a StarWars character in the franchise and provides you with a GIF\n",
        "\n",
        "Following is the workflow:\n",
        "\n",
        "\n",
        "\n",
        "1.   Run selection starwars character section\n",
        "2.   Set up API\n",
        "3.   Set up GIPHY\n",
        "4.   Put it together!\n",
        "\n",
        "\n"
      ],
      "metadata": {
        "id": "7VNNPfysXa70"
      }
    },
    {
      "cell_type": "markdown",
      "source": [
        "# Selecting a random Starwars Character\n",
        "In this section we will request to the public SWAPI https://swapi.dev/ to retrieve a random character"
      ],
      "metadata": {
        "id": "T-Wz81Nm-hAX"
      }
    },
    {
      "cell_type": "code",
      "source": [
        "#array of GIF-iable characters' ID\n",
        "#check \"Selecting only available characters to see how we came up with this array\"\n",
        "characters = [1, 2, 3, 4, 5, 10, 11, 13, 14, 20, 21, 22, 25, 35, 36, 32, 44, 51, 69, 67, 79]\n",
        "\n",
        "import random\n",
        "\n",
        "def rando_number():\n",
        "  random_index = random.randint(0, len(characters) - 1)\n",
        "  random_number = characters[random_index]\n",
        "\n",
        "  return random_number\n"
      ],
      "metadata": {
        "id": "zTZSkKl1-3vh"
      },
      "execution_count": 1,
      "outputs": []
    },
    {
      "cell_type": "markdown",
      "source": [
        "\n",
        "### Selecting only available characters"
      ],
      "metadata": {
        "id": "N0XWTQu1dN-W"
      }
    },
    {
      "cell_type": "code",
      "source": [
        "#mannual checker for all the characters on API\n",
        "\n",
        "import requests\n",
        "\n",
        "def fetch_character_T(num):\n",
        "\n",
        "  url = f'https://swapi.dev/api/people/{num}/'\n",
        "\n",
        "  r = requests.get(url)\n",
        "  data = r.json()\n",
        "\n",
        "  name = data['name']\n",
        "  return name\n",
        "\n",
        "#printing the characters name on list\n",
        "for i in range (1,89):\n",
        "  try:\n",
        "    chr = fetch_character_T(i)\n",
        "    pri = f\"{i}: {chr}\"\n",
        "\n",
        "    print(pri)\n",
        "  except:\n",
        "    print(\"no data found\")"
      ],
      "metadata": {
        "id": "VTAlJm5EZpim"
      },
      "execution_count": null,
      "outputs": []
    },
    {
      "cell_type": "markdown",
      "source": [
        "https://chatgpt.com/share/a47863a2-2bb4-443c-b30f-e0c8c53a5964\n",
        "\n",
        "Chatgpt link for extracting only the wanted names and their ID"
      ],
      "metadata": {
        "id": "k2kAPWGadbWi"
      }
    },
    {
      "cell_type": "markdown",
      "source": [
        "### Fetching Character"
      ],
      "metadata": {
        "id": "9Ligye27fNko"
      }
    },
    {
      "cell_type": "markdown",
      "source": [
        "We make an API call, retrieve data as json, and query the dictionary with \"name\" to filter the name"
      ],
      "metadata": {
        "id": "VKQwxGzzfTAJ"
      }
    },
    {
      "cell_type": "code",
      "source": [
        "#random character fetcher\n",
        "import requests\n",
        "\n",
        "def fetch_character():\n",
        "\n",
        "  rd_character = rando_number()\n",
        "  url = f'https://swapi.dev/api/people/{rd_character}/'\n",
        "\n",
        "  r = requests.get(url)\n",
        "  data = r.json()\n",
        "\n",
        "  name = data['name']\n",
        "  return name\n"
      ],
      "metadata": {
        "id": "idzYCcMcqiwH"
      },
      "execution_count": 2,
      "outputs": []
    },
    {
      "cell_type": "markdown",
      "source": [
        "# Setting up GIPHY"
      ],
      "metadata": {
        "id": "2WyENWpnBlwL"
      }
    },
    {
      "cell_type": "markdown",
      "source": [
        "Navigate to https://developers.giphy.com/docs/api/endpoint and register for developers account\n"
      ],
      "metadata": {
        "id": "INwWNswC0QcJ"
      }
    },
    {
      "cell_type": "markdown",
      "source": [
        "go to KEY icon on the left side and put your secret key"
      ],
      "metadata": {
        "id": "xvDYDyv40VEM"
      }
    },
    {
      "cell_type": "code",
      "source": [
        "#use ur own GIPHY key here for collab\n",
        "\n",
        "from google.colab import userdata\n",
        "GIPHY_KEY = userdata.get('GIPHY-KEY')\n",
        "\n",
        "if GIPHY_KEY:\n",
        "  print('KEY is valid')\n",
        "else:\n",
        "  print('Please check KEY status')"
      ],
      "metadata": {
        "colab": {
          "base_uri": "https://localhost:8080/"
        },
        "id": "4do3duDruL1G",
        "outputId": "d837c232-13e4-40a5-ea59-27c4553ad3c2"
      },
      "execution_count": 3,
      "outputs": [
        {
          "output_type": "stream",
          "name": "stdout",
          "text": [
            "KEY is valid\n"
          ]
        }
      ]
    },
    {
      "cell_type": "code",
      "source": [
        "#retrieve GIPHY data\n",
        "import json\n",
        "\n",
        "def fetch_GIPHY():\n",
        "\n",
        "  #here we use our fetch_character() function\n",
        "  name = fetch_character()\n",
        "  print(\"your character's name is: \"+name)\n",
        "\n",
        "  url = f'https://api.giphy.com/v1/gifs/search?api_key={GIPHY_KEY}&q={name}&limit=20&offset=5&rating=g&lang=en'\n",
        "  re = requests.get(url)\n",
        "\n",
        "  data = re.json()\n",
        "  return data\n"
      ],
      "metadata": {
        "id": "zOfA_2RLyDct"
      },
      "execution_count": 4,
      "outputs": []
    },
    {
      "cell_type": "code",
      "source": [
        "#print the GIF\n",
        "from IPython.display import HTML\n",
        "\n",
        "def print_GIF():\n",
        "\n",
        "  data = fetch_GIPHY()\n",
        "  try:\n",
        "    #important --> we navigate from the \"data\" on the previous cell to locate the embed_url from the json file\n",
        "    embed_url = data['data'][0]['embed_url']\n",
        "    # Embed the GIF using an iframe\n",
        "    display(HTML(f'<iframe src=\"{embed_url}\" width=\"480\" height=\"270\" frameborder=\"0\" class=\"giphy-embed\" allowfullscreen></iframe>'))\n",
        "  except:\n",
        "    #in case we have an unexpected error, we handle it\n",
        "    print(\"We are sorry - unexpected error occured. Please try again\")"
      ],
      "metadata": {
        "id": "DRsIrD5A6qZu"
      },
      "execution_count": 5,
      "outputs": []
    },
    {
      "cell_type": "markdown",
      "source": [
        "# Try it yourself!"
      ],
      "metadata": {
        "id": "okCMdysmf0rY"
      }
    },
    {
      "cell_type": "code",
      "source": [
        "print('Welcome to random Star Wars GIF generator!')\n",
        "print_GIF()"
      ],
      "metadata": {
        "id": "MgpKirTvE8vd",
        "outputId": "c5def149-3caf-47df-9a70-5f19e01c463c",
        "colab": {
          "base_uri": "https://localhost:8080/",
          "height": 365
        }
      },
      "execution_count": 6,
      "outputs": [
        {
          "output_type": "stream",
          "name": "stdout",
          "text": [
            "Welcome to random Star Wars GIF generator!\n",
            "your character's name is: Luke Skywalker\n"
          ]
        },
        {
          "output_type": "stream",
          "name": "stderr",
          "text": [
            "/usr/local/lib/python3.10/dist-packages/IPython/core/display.py:724: UserWarning: Consider using IPython.display.IFrame instead\n",
            "  warnings.warn(\"Consider using IPython.display.IFrame instead\")\n"
          ]
        },
        {
          "output_type": "display_data",
          "data": {
            "text/plain": [
              "<IPython.core.display.HTML object>"
            ],
            "text/html": [
              "<iframe src=\"https://giphy.com/embed/3oeSAUBH1VH221GAko\" width=\"480\" height=\"270\" frameborder=\"0\" class=\"giphy-embed\" allowfullscreen></iframe>"
            ]
          },
          "metadata": {}
        }
      ]
    }
  ]
}
